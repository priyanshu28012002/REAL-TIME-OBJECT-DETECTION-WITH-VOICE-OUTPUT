{
 "cells": [
  {
   "cell_type": "code",
   "execution_count": null,
   "id": "bf7005f4",
   "metadata": {},
   "outputs": [],
   "source": [
    "\n",
    "import cv2\n",
    "import pyttsx3\n",
    "from keras.applications.vgg16 import VGG16\n",
    "model = VGG16()\n",
    "import tensorflow as tf\n",
    "import numpy as np\n",
    "from keras.applications.imagenet_utils import preprocess_input\n",
    "import numpy as np\n",
    "from keras.applications.vgg16 import preprocess_input, decode_predictions\n",
    "\n",
    "  \n",
    "  \n",
    "# define a video capture object\n",
    "vid = cv2.VideoCapture(0)\n",
    "engine = pyttsx3.init() \n",
    "while(True):\n",
    "      \n",
    "    # Capture the video frame\n",
    "    # by frame\n",
    "    ret, frame = vid.read()\n",
    "    #print(frame)\n",
    "    kai=frame\n",
    "    frame = kai\n",
    "    frame=cv2.resize(frame, (224,224))\n",
    "    image =  frame.reshape((1,frame.shape[0],frame.shape[1],frame.shape[2]))\n",
    "    #print(image)\n",
    "    image = preprocess_input(image)\n",
    "   # print(image)\n",
    "\n",
    "\n",
    "    yhat = model.predict(image)\n",
    "    lable = decode_predictions(yhat)\n",
    "    l=lable[0]\n",
    "    k=l[1]\n",
    "    print(k[1])\n",
    "\n",
    "    engine.say(k[1])\n",
    "    engine.runAndWait()    \n",
    "    cv2.imshow('frame', kai)\n",
    "    if cv2.waitKey(1) & 0xFF == ord('q'):\n",
    "        break\n",
    " \n",
    "# After the loop release the cap ob1ject\n",
    "vid.release()\n",
    "# Destroy all the windows\n",
    "cv2.destroyAllWindows()qqqqqq"
   ]
  }
 ],
 "metadata": {
  "kernelspec": {
   "display_name": "Python 3 (ipykernel)",
   "language": "python",
   "name": "python3"
  },
  "language_info": {
   "codemirror_mode": {
    "name": "ipython",
    "version": 3
   },
   "file_extension": ".py",
   "mimetype": "text/x-python",
   "name": "python",
   "nbconvert_exporter": "python",
   "pygments_lexer": "ipython3",
   "version": "3.9.13"
  }
 },
 "nbformat": 4,
 "nbformat_minor": 5
}
